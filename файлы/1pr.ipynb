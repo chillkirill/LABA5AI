{
 "cells": [
  {
   "cell_type": "code",
   "execution_count": 1,
   "id": "28576307-d5a8-4573-9d19-d0ecc2f0437e",
   "metadata": {},
   "outputs": [
    {
     "name": "stdout",
     "output_type": "stream",
     "text": [
      "DataFrame из словаря списков:\n",
      "<class 'pandas.core.frame.DataFrame'>\n",
      "RangeIndex: 5 entries, 0 to 4\n",
      "Data columns (total 7 columns):\n",
      " #   Column       Non-Null Count  Dtype \n",
      "---  ------       --------------  ----- \n",
      " 0   ID           5 non-null      int64 \n",
      " 1   Имя          5 non-null      object\n",
      " 2   Возраст      5 non-null      int64 \n",
      " 3   Должность    5 non-null      object\n",
      " 4   Отдел        5 non-null      object\n",
      " 5   Зарплата     5 non-null      int64 \n",
      " 6   Стаж работы  5 non-null      int64 \n",
      "dtypes: int64(4), object(3)\n",
      "memory usage: 412.0+ bytes\n",
      "\n",
      "DataFrame из списка словарей:\n",
      "<class 'pandas.core.frame.DataFrame'>\n",
      "RangeIndex: 5 entries, 0 to 4\n",
      "Data columns (total 7 columns):\n",
      " #   Column       Non-Null Count  Dtype \n",
      "---  ------       --------------  ----- \n",
      " 0   ID           5 non-null      int64 \n",
      " 1   Имя          5 non-null      object\n",
      " 2   Возраст      5 non-null      int64 \n",
      " 3   Должность    5 non-null      object\n",
      " 4   Отдел        5 non-null      object\n",
      " 5   Зарплата     5 non-null      int64 \n",
      " 6   Стаж работы  5 non-null      int64 \n",
      "dtypes: int64(4), object(3)\n",
      "memory usage: 412.0+ bytes\n",
      "\n",
      "DataFrame из массива NumPy:\n",
      "<class 'pandas.core.frame.DataFrame'>\n",
      "RangeIndex: 5 entries, 0 to 4\n",
      "Data columns (total 1 columns):\n",
      " #   Column   Non-Null Count  Dtype\n",
      "---  ------   --------------  -----\n",
      " 0   Возраст  5 non-null      int32\n",
      "dtypes: int32(1)\n",
      "memory usage: 152.0 bytes\n"
     ]
    }
   ],
   "source": [
    "import pandas as pd\n",
    "import numpy as np\n",
    "\n",
    "#  DataFrame из словаря списков\n",
    "data_dict = {\n",
    "    'ID': [1, 2, 3, 4, 5],\n",
    "    'Имя': ['Иван', 'Ольга', 'Алексей', 'Мария', 'Сергей'],\n",
    "    'Возраст': [25, 30, 40, 35, 28],\n",
    "    'Должность': ['Инженер', 'Аналитик', 'Менеджер', 'Программист', 'Специалист'],\n",
    "    'Отдел': ['ИТ', 'Маркетинг', 'Продажи', 'ИТ', 'HR'],\n",
    "    'Зарплата': [60000, 75000, 90000, 80000, 50000],\n",
    "    'Стаж работы': [2, 5, 15, 7, 3]\n",
    "}\n",
    "df_from_dict = pd.DataFrame(data_dict)\n",
    "\n",
    "#  DataFrame из списка словарей\n",
    "list_of_dicts = [\n",
    "    {'ID': 1, 'Имя': 'Иван', 'Возраст': 25, 'Должность': 'Инженер', 'Отдел': 'ИТ', 'Зарплата': 60000, 'Стаж работы': 2},\n",
    "    {'ID': 2, 'Имя': 'Ольга', 'Возраст': 30, 'Должность': 'Аналитик', 'Отдел': 'Маркетинг', 'Зарплата': 75000, 'Стаж работы': 5},\n",
    "    {'ID': 3, 'Имя': 'Алексей', 'Возраст': 40, 'Должность': 'Менеджер', 'Отдел': 'Продажи', 'Зарплата': 90000, 'Стаж работы': 15},\n",
    "    {'ID': 4, 'Имя': 'Мария', 'Возраст': 35, 'Должность': 'Программист', 'Отдел': 'ИТ', 'Зарплата': 80000, 'Стаж работы': 7},\n",
    "    {'ID': 5, 'Имя': 'Сергей', 'Возраст': 28, 'Должность': 'Специалист', 'Отдел': 'HR', 'Зарплата': 50000, 'Стаж работы': 3}\n",
    "]\n",
    "df_from_list_of_dicts = pd.DataFrame(list_of_dicts)\n",
    "\n",
    "#  DataFrame из массива NumPy со случайными числами (от 20 до 60) для возраста\n",
    "np.random.seed(0)  \n",
    "random_ages = np.random.randint(20, 61, size=5)  \n",
    "df_from_np = pd.DataFrame({'Возраст': random_ages})\n",
    "\n",
    "# Проверка типов данных  с помощью .info()\n",
    "print(\"DataFrame из словаря списков:\")\n",
    "df_from_dict.info()\n",
    "\n",
    "print(\"\\nDataFrame из списка словарей:\")\n",
    "df_from_list_of_dicts.info()\n",
    "\n",
    "print(\"\\nDataFrame из массива NumPy:\")\n",
    "df_from_np.info()\n"
   ]
  },
  {
   "cell_type": "code",
   "execution_count": null,
   "id": "23232bef-fcc4-4eef-b7be-ea745b60238f",
   "metadata": {},
   "outputs": [],
   "source": []
  }
 ],
 "metadata": {
  "kernelspec": {
   "display_name": "Python [conda env:base] *",
   "language": "python",
   "name": "conda-base-py"
  },
  "language_info": {
   "codemirror_mode": {
    "name": "ipython",
    "version": 3
   },
   "file_extension": ".py",
   "mimetype": "text/x-python",
   "name": "python",
   "nbconvert_exporter": "python",
   "pygments_lexer": "ipython3",
   "version": "3.12.7"
  }
 },
 "nbformat": 4,
 "nbformat_minor": 5
}
